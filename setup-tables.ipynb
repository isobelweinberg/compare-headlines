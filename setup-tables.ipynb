{
 "cells": [
  {
   "cell_type": "code",
   "execution_count": 1,
   "metadata": {
    "collapsed": true
   },
   "outputs": [],
   "source": [
    "##This script is for setting up new tables of headlines\n",
    "##It should not be run unless you want to overwrite existing data tables!"
   ]
  },
  {
   "cell_type": "code",
   "execution_count": 2,
   "metadata": {
    "collapsed": true
   },
   "outputs": [],
   "source": [
    "##Import necessaries\n",
    "from bs4 import BeautifulSoup\n",
    "import urllib.request\n",
    "import sqlite3\n",
    "import datetime"
   ]
  },
  {
   "cell_type": "code",
   "execution_count": 3,
   "metadata": {
    "collapsed": true
   },
   "outputs": [],
   "source": [
    "##Open database\n",
    "conn = sqlite3.connect('headlines.db') #Change to r'C:\\xampp\\htdocs\\compare-editorial-line\\headlines.db' to act on current local database\n",
    "c = conn.cursor()"
   ]
  },
  {
   "cell_type": "code",
   "execution_count": 4,
   "metadata": {
    "collapsed": false
   },
   "outputs": [],
   "source": [
    "##Use to look at data table if needed\n",
    "#for row in c.execute(\"SELECT * FROM data\"):\n",
    "   # print(row)"
   ]
  },
  {
   "cell_type": "code",
   "execution_count": 5,
   "metadata": {
    "collapsed": false
   },
   "outputs": [],
   "source": [
    "##If need to delete all data from data table\n",
    "#c.execute('DELETE FROM data') #If need to delete all data"
   ]
  },
  {
   "cell_type": "code",
   "execution_count": 6,
   "metadata": {
    "collapsed": false
   },
   "outputs": [
    {
     "data": {
      "text/plain": [
       "<sqlite3.Cursor at 0x506f0a0>"
      ]
     },
     "execution_count": 6,
     "metadata": {},
     "output_type": "execute_result"
    }
   ],
   "source": [
    "##Create index table\n",
    "c.execute('''CREATE TABLE idx (\n",
    "    id,\n",
    "    newssource)''')"
   ]
  },
  {
   "cell_type": "code",
   "execution_count": 7,
   "metadata": {
    "collapsed": true
   },
   "outputs": [],
   "source": [
    "##GUARDIAN\n",
    "##Get data\n",
    "r = urllib.request.urlopen('https://www.theguardian.com/uk').read() #get html\n",
    "soup = BeautifulSoup(r, \"lxml\") #run html through beautiful soup\n",
    "#print(soup) #to look at html\n",
    "today = datetime.date.today() #Store date and time\n",
    "now = datetime.datetime.now() #time = datetime.datetime.now().time()\n",
    "\n",
    "#for link in soup.find_all('a'): # this prints all links in document\n",
    "    #print(link.get('href'))"
   ]
  },
  {
   "cell_type": "code",
   "execution_count": 8,
   "metadata": {
    "collapsed": false
   },
   "outputs": [],
   "source": [
    "##Save data\n",
    "#soup.find_all(\"a\", class_=\"fc-item__link\")\n",
    "headlines = soup.find_all(\"span\", class_=\"js-headline-text\") #get all headlines on page\n",
    "\n",
    "# Create table\n",
    "c.execute('''CREATE TABLE guardian (\n",
    "    id,\n",
    "    date,\n",
    "    time,\n",
    "    headline,\n",
    "    url)''')\n",
    "#Add Guardian to index table\n",
    "c.execute(\"INSERT INTO idx VALUES(1, 'guardian')\") \n",
    "\n",
    "id = 0 #preallocate\n",
    "for h in headlines:\n",
    "    #print(h.get_text())\n",
    "    id += 1\n",
    "    c.execute(\"INSERT INTO guardian VALUES(?, ?, ?, ?, '')\", (id, today, now, h.get_text())) #store in database\n"
   ]
  },
  {
   "cell_type": "code",
   "execution_count": 9,
   "metadata": {
    "collapsed": false
   },
   "outputs": [],
   "source": [
    "##Repeat for BBC NEWS\n",
    "##Get data\n",
    "bbc_r = urllib.request.urlopen('http://www.bbc.co.uk/news/uk').read()\n",
    "bbc_soup = BeautifulSoup(bbc_r, \"lxml\")\n",
    "bbc_today = datetime.date.today()\n",
    "bbc_now = datetime.datetime.now()\n",
    "#print(bbc_soup)"
   ]
  },
  {
   "cell_type": "code",
   "execution_count": 10,
   "metadata": {
    "collapsed": false
   },
   "outputs": [],
   "source": [
    "##Save data\n",
    "main = bbc_soup.div(class_=\"buzzard-item\")\n",
    "medium = bbc_soup.div(class_=\"pigeon-item__body\")\n",
    "small = bbc_soup.div(class_=\"pigeon__column pigeon__column--b\")\n",
    "tiny = bbc_soup.div(class_=\"macaw-item__body\")\n",
    "bbc_divs = main + medium + small + tiny\n",
    "bbc_headlines = None\n",
    "\n",
    "# Create table\n",
    "c.execute('''CREATE TABLE BBCnews (\n",
    "    id,\n",
    "    date,\n",
    "    time,\n",
    "    headline,\n",
    "    url)''')\n",
    "#Add to index table\n",
    "c.execute(\"INSERT INTO idx VALUES(2, 'BBCnews')\") \n",
    "\n",
    "id = 0 #preallocate\n",
    "for div in bbc_divs:\n",
    "    headlines = div.find_all(\"span\", class_=\"title-link__title-text\")\n",
    "    for h in headlines:\n",
    "        #print(h.get_text())\n",
    "        id += 1\n",
    "        c.execute(\"INSERT INTO BBCnews VALUES(?, ?, ?, ?, '')\", (id, bbc_today, bbc_now, h.get_text()))"
   ]
  },
  {
   "cell_type": "code",
   "execution_count": 11,
   "metadata": {
    "collapsed": false
   },
   "outputs": [],
   "source": [
    "##Repeat for DAILY MAIL\n",
    "##Get data\n",
    "dm_r = urllib.request.urlopen('http://www.dailymail.co.uk/home/index.html').read()\n",
    "dm_soup = BeautifulSoup(dm_r, \"lxml\")\n",
    "dm_today = datetime.date.today()\n",
    "dm_now = datetime.datetime.now()\n",
    "#print(dm_soup)"
   ]
  },
  {
   "cell_type": "code",
   "execution_count": 12,
   "metadata": {
    "collapsed": false
   },
   "outputs": [],
   "source": [
    "##Save data\n",
    "headlines = dm_soup.find_all(class_=\"linkro-darkred\")\n",
    "\n",
    "# Create table\n",
    "c.execute('''CREATE TABLE dailymail (\n",
    "    id,\n",
    "    date,\n",
    "    time,\n",
    "    headline,\n",
    "    url)''')\n",
    "#Add to index table\n",
    "c.execute(\"INSERT INTO idx VALUES(3, 'dailymail')\") \n",
    "\n",
    "id = 0 #preallocate\n",
    "for h in headlines:\n",
    "    htxt = h.get_text()\n",
    "    htxt = htxt.strip('\\n')\n",
    "    htxt = htxt.strip('\\xa0')\n",
    "    htxt = htxt.replace('\\n','')\n",
    "    id += 1\n",
    "    #print(htxt)\n",
    "    c.execute(\"INSERT INTO dailymail VALUES(?, ?, ?, ?, '')\", (id, dm_today, dm_now, htxt))"
   ]
  },
  {
   "cell_type": "code",
   "execution_count": 13,
   "metadata": {
    "collapsed": false
   },
   "outputs": [],
   "source": [
    "##Commit to database and close connection\n",
    "# Save (commit) the changes\n",
    "conn.commit()\n",
    "\n",
    "# We can also close the connection if we are done with it.\n",
    "# Just be sure any changes have been committed or they will be lost.\n",
    "conn.close()"
   ]
  }
 ],
 "metadata": {
  "kernelspec": {
   "display_name": "Python 3",
   "language": "python",
   "name": "python3"
  },
  "language_info": {
   "codemirror_mode": {
    "name": "ipython",
    "version": 3
   },
   "file_extension": ".py",
   "mimetype": "text/x-python",
   "name": "python",
   "nbconvert_exporter": "python",
   "pygments_lexer": "ipython3",
   "version": "3.6.0"
  }
 },
 "nbformat": 4,
 "nbformat_minor": 2
}
